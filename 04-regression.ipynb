{
 "cells": [
  {
   "cell_type": "markdown",
   "metadata": {},
   "source": [
    "## Regression"
   ]
  },
  {
   "cell_type": "markdown",
   "metadata": {},
   "source": [
    "In the previous chapter, we saw how permutation tests could help us determine whether observed differences between experimental groups are real. Randomized experiments make this possible. While unbiased, however, they are not necessarily precise.\n",
    "\n",
    "This chapter describes how to reduce the variability of the outcomes using regression. We make use of covariates&mdash;that is, *other* variables that affect outcomes&mdash;in order to eliminate observed differences between experimental groups.\n",
    "\n",
    "A regression model typically describes a single variable in terms of one or more different variables. A line, for example, can be described by the equation $y = mx + b$, where $b$ is the $y$-intercept and $m$ is the slope. The slope tells us the amount by which $y$ increases for every unit increase in $x$. In other words, this equation describes the *relationship* between $x$ and $y$ in terms of $m$.\n",
    "\n",
    "By convention, $y$ and $x$ are typically referred to as the dependent and independent variables, respectively.\n",
    "\n",
    ">Dependent variables are also sometimes referred to as \"response variables,\" \"regressands,\" or \"targets.\" The corresponding terms for independent variables are \"predictor variables,\" \"regressors,\" or \"features.\"\n",
    "\n",
    "Previously, we expressed the potential outcome equation as:\n",
    "\n",
    "$$y_i = y_{0i} + (y_{1i} - y_{0i})D_i\\text{.}$$\n",
    "\n",
    "It turns out, the regression equation isn't much different:\n",
    "\n",
    "$$y_i = \\beta_0 + \\beta_1 D_i + \\epsilon\\text{.}$$\n",
    "\n",
    "Notice the similarities. $D_i$ is the treatment status and is either $0$ or $1$. The parameter of interest&mdash;that is, what we're interested in estimating&mdash;is $\\beta_1$. This tells us the amount by which $y$ changes with treatment. In other words, this is the ATE."
   ]
  },
  {
   "cell_type": "code",
   "execution_count": null,
   "metadata": {
    "collapsed": true
   },
   "outputs": [],
   "source": []
  }
 ],
 "metadata": {
  "kernelspec": {
   "display_name": "Python 3",
   "language": "python",
   "name": "python3"
  },
  "language_info": {
   "codemirror_mode": {
    "name": "ipython",
    "version": 3
   },
   "file_extension": ".py",
   "mimetype": "text/x-python",
   "name": "python",
   "nbconvert_exporter": "python",
   "pygments_lexer": "ipython3",
   "version": "3.5.1"
  }
 },
 "nbformat": 4,
 "nbformat_minor": 0
}
