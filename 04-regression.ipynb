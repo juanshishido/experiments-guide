{
 "cells": [
  {
   "cell_type": "markdown",
   "metadata": {},
   "source": [
    "## Regression"
   ]
  },
  {
   "cell_type": "markdown",
   "metadata": {},
   "source": [
    "In the previous chapter, we saw how permutation tests could help us determine whether observed differences between experimental groups are real. Randomized experiments make this possible. While unbiased, they are not necessarily precise.\n",
    "\n",
    "This chapter describes how to reduce the variability of the outcomes using regression. We make use of covariates&mdash;that is, *other* variables that affect outcomes&mdash;in order to eliminate observed differences between experimental groups.\n",
    "\n",
    "A regression model typically describes a single variable in terms of one or more different variables. A line, for example, can be described by the equation $y = mx + b$, where $b$ is the $y$-intercept and $m$ is the slope. In other words, this equation describes the relationship between $x$ and $y$ in terms of $m$ and $b$. The objective is to determine the value of $m$, which tells us how much $y$ increases as $x$ increases by one unit.\n",
    "\n",
    "$$y_i = \\beta_0 + \\beta_1D_i + u_i$$"
   ]
  },
  {
   "cell_type": "code",
   "execution_count": null,
   "metadata": {
    "collapsed": true
   },
   "outputs": [],
   "source": []
  }
 ],
 "metadata": {
  "kernelspec": {
   "display_name": "Python 3",
   "language": "python",
   "name": "python3"
  },
  "language_info": {
   "codemirror_mode": {
    "name": "ipython",
    "version": 3
   },
   "file_extension": ".py",
   "mimetype": "text/x-python",
   "name": "python",
   "nbconvert_exporter": "python",
   "pygments_lexer": "ipython3",
   "version": "3.5.1"
  }
 },
 "nbformat": 4,
 "nbformat_minor": 0
}
