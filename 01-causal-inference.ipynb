{
 "cells": [
  {
   "cell_type": "markdown",
   "metadata": {},
   "source": [
    "## Causal Inference"
   ]
  },
  {
   "cell_type": "markdown",
   "metadata": {},
   "source": [
    "### Potential Outcomes"
   ]
  },
  {
   "cell_type": "markdown",
   "metadata": {},
   "source": [
    "The causal effect of a treatment, $D$, on an outcome, $y$, for either an observational *or* experimental unit, $i$, is defined by the differences in outcomes occurring under each of the treatment possibilities (Gelman, 2006). In the binary treatment case, $D_i = \\left\\{0, 1\\right\\}$. The potential outcomes&mdash;that is, the outcomes that would have been observed for unit $i$ under treatment and control conditions&mdash;are defined as follows:\n",
    "\n",
    "\\begin{cases}\n",
    "    y_{1i} \\quad \\text{if}\\ D_i = 1 \\\\\n",
    "    y_{0i} \\quad \\text{if}\\ D_i = 0\\text{.}\n",
    "\\end{cases}\n",
    "\n",
    "Only one of the outcomes&mdash;the one associated with unit $i$'s assignment&mdash;is ever observed, though. For a unit assigned to the treatment condition, $y_{1i}$ is observed and $y_{0i}$, referred to as the *counterfactual*, is unobserved.\n",
    "\n",
    "Using the potential outcomes notation, the observed outcome, $y_i$, can be written as:\n",
    "\n",
    "$$y_{0i} + (y_{1i} - y_{0i})D_i\\text{,}$$\n",
    "\n",
    "where $y_{1i} - y_{0i}$ is the causal effect of the treatment, $D$, on unit $i$ (Angrist and Pischke, 2009).\n",
    "\n",
    "Because both potential outcomes are never observed for a single unit, treatment effects must be inferred by comparing average outcomes for treated and untreated units."
   ]
  },
  {
   "cell_type": "code",
   "execution_count": null,
   "metadata": {
    "collapsed": true
   },
   "outputs": [],
   "source": []
  }
 ],
 "metadata": {
  "kernelspec": {
   "display_name": "Python 3",
   "language": "python",
   "name": "python3"
  },
  "language_info": {
   "codemirror_mode": {
    "name": "ipython",
    "version": 3
   },
   "file_extension": ".py",
   "mimetype": "text/x-python",
   "name": "python",
   "nbconvert_exporter": "python",
   "pygments_lexer": "ipython3",
   "version": "3.5.1"
  }
 },
 "nbformat": 4,
 "nbformat_minor": 0
}
