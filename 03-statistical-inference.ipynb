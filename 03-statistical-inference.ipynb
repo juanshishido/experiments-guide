{
 "cells": [
  {
   "cell_type": "markdown",
   "metadata": {},
   "source": [
    "## Statistical Inference"
   ]
  },
  {
   "cell_type": "markdown",
   "metadata": {},
   "source": [
    "### Sampling Distributions"
   ]
  },
  {
   "cell_type": "markdown",
   "metadata": {},
   "source": [
    "With randomization, we typically only ever see one realization of all the possible set of assignments. From this, we get a single estimate of the average treatment effect. However, had the assignments been different, the estimate would have been different, too. If we were to repeatedly conduct the same experiment, the collection of average treatment effects would form a sampling distribution. The *sampling distribution* refers to the collection of estimates associated with every possible random assignment (Gerber and Green, 2012).\n",
    "\n",
    "The mean of this sampling distribution&mdash;that is, the average estimated ATE across all possible random assignments&mdash;is equal to the true ATE (Gerber and Green, 2012). With a single experiment, however, we get a single, albeit unbiased, estimate of the ATE. This will almost certainly differ from the true ATE, but is unbiased in the sense that, on average, it yields the true ATE.\n",
    "\n",
    "Let's look at a hypothetical sampling distribution."
   ]
  },
  {
   "cell_type": "code",
   "execution_count": 1,
   "metadata": {
    "collapsed": false
   },
   "outputs": [],
   "source": [
    "import numpy as np\n",
    "import pandas as pd\n",
    "import matplotlib as mpl\n",
    "import matplotlib.pyplot as plt\n",
    "\n",
    "%matplotlib inline\n",
    "mpl.style.use('ggplot')\n",
    "mpl.rc('savefig', dpi=100)"
   ]
  },
  {
   "cell_type": "code",
   "execution_count": 2,
   "metadata": {
    "collapsed": false
   },
   "outputs": [
    {
     "data": {
      "image/png": "[encoded data removed]",
      "text/plain": [
       "<matplotlib.figure.Figure at 0x10e6f0e80>"
      ]
     },
     "metadata": {},
     "output_type": "display_data"
    }
   ],
   "source": [
    "np.random.seed(42)\n",
    "\n",
    "# data\n",
    "mu, sigma = 0, 1\n",
    "x = mu + sigma * np.random.randn(100000)\n",
    "\n",
    "# plot\n",
    "pd.Series(x).plot(kind='hist', bins=50,\n",
    "                  color='#000000', alpha=0.5, normed=True)\n",
    "\n",
    "# plot options\n",
    "plt.title('Sampling Distribution Example')\n",
    "plt.xlabel('ATE Estimates')\n",
    "plt.ylabel('Density')\n",
    "plt.tick_params(axis='both',\n",
    "                top='off', bottom='off',\n",
    "                left='off', right='off')"
   ]
  },
  {
   "cell_type": "markdown",
   "metadata": {},
   "source": [
    "This distribution was generated using 100,000 random data points with zero mean ($\\mu = 0$) and unit variance ($\\sigma^2 = 1$). Thus, the true ATE is zero, meaning there is no treatment effect, and we see that the histogram is centered around that value. We can also see the variation around zero. We'll discuss this next."
   ]
  },
  {
   "cell_type": "markdown",
   "metadata": {},
   "source": [
    "### Standard Error"
   ]
  },
  {
   "cell_type": "markdown",
   "metadata": {},
   "source": [
    "While experiments provide unbiased estimates of the ATE, they are not necessarily precise&mdash;there is variability around the true ATE. Sampling variability tells us about the uncertainty associated with our estimate. The statistic of choice for characterizing this variability is the standard error.\n",
    "\n",
    "The standard error is the standard deviation of the sampling distribution. The formula for the population standard deviation is:\n",
    "\n",
    "$$\\sqrt{\\frac{1}{N} \\sum_{i=1}^N (x_i - \\bar{x})^2 } \\text{.}$$\n",
    "\n",
    "In other words, we take the square root of the average squared deviations from the mean. (Note: when the data is a random sample from the population, the *sample* standard deviation divides the squared deviations by $N-1$ rather than $N$.)\n",
    "\n",
    "For our hypothetical sampling distribution, we can calculate the standard deviation as follows."
   ]
  },
  {
   "cell_type": "code",
   "execution_count": 3,
   "metadata": {
    "collapsed": false
   },
   "outputs": [
    {
     "data": {
      "text/plain": [
       "1.0009009542948903"
      ]
     },
     "execution_count": 3,
     "metadata": {},
     "output_type": "execute_result"
    }
   ],
   "source": [
    "(((x - x.mean()) ** 2).mean()) ** 0.5"
   ]
  },
  {
   "cell_type": "markdown",
   "metadata": {},
   "source": [
    "We could also use NumPy's built-in standard deviation method."
   ]
  },
  {
   "cell_type": "code",
   "execution_count": 4,
   "metadata": {
    "collapsed": false
   },
   "outputs": [
    {
     "data": {
      "text/plain": [
       "1.0009009542948903"
      ]
     },
     "execution_count": 4,
     "metadata": {},
     "output_type": "execute_result"
    }
   ],
   "source": [
    "x.std()"
   ]
  },
  {
   "cell_type": "markdown",
   "metadata": {},
   "source": [
    "This can be expressed in terms of potential outcomes (Gerber and Green, 2012):\n",
    "\n",
    "$$ SE(\\widehat{ATE}) = \\sqrt{ \\frac{1}{N-1} \\left( \\frac{ m\\sigma^2_{y_{0i}} }{ N-m } + \\frac{ (N-m) \\sigma^2_{y_{1i}} }{ m } + 2 cov(y_{0i}, y_{1i}) \\right) }\\text{,}$$\n",
    "\n",
    "where $m$ is the number of units in the treatment group, $N$ is the total number of units (treatment and control), and $\\sigma^2$ is the variance. The last term represents the covariance of $y_{0i}$ and $y_{1i}$ and measures the association between the potential outcomes.\n",
    "\n",
    "Using this formulation, Gerber and Green discuss the ways that the experimental design can produce more precise estimates of the ATE. They do this by changing single inputs at a time while holding others fixed. These are summarized below.\n",
    "\n",
    "1. A larger $N$ leads to a smaller standard error. This is true even if $m$ is held constant, which implies that only the control group increases. Similarly, increasing the number of units in the control group, $m$, also decreases the standard error.\n",
    "2. The smaller that $\\sigma^2_{y_{0i}}$ or $\\sigma^2_{y_{1i}}$ are, the smaller the standard error. This implies that the treatment and control group units should be as similar as possible in terms of potential outcomes.\n",
    "3. The smaller the covariance between $y_{0i}$ and $y_{1i}$, the smaller the standard error.\n",
    "\n",
    "Gerber and Green provide an additional suggestion:\n",
    "\n",
    "* if $\\sigma^2_{y_{0i}}$ and $\\sigma^2_{y_{1i}}$ are similar, about half of the units should be assigned to treatment and the rest to control\n",
    "* if the variances of the potential outcomes are different, assign more units to the corresponding group\n",
    "    * in practice, however, this variance is rarely known\n",
    "    * thus, try to assign an equal number of units to each condition\n",
    "\n",
    "Standard errors measure uncertainty, indicating how estimates vary across all possible random assignments (Gerber and Green, 2012). One goal of an experiment is to reduce variability. There are several ways to do this, which we'll discuss further in a subsequent chapter, but, in general, one can:\n",
    "\n",
    "* make more precise measurements of the response\n",
    "* transform response data\n",
    "    * for example, instead of measuring only \"post-test\" responses, issue a \"pre-test\" and measure outcomes based difference between these values\n",
    "* group observations so that they're as homogeneous as possible in terms of potential outcomes\n",
    "* use more experimental units"
   ]
  },
  {
   "cell_type": "markdown",
   "metadata": {},
   "source": [
    "### Estimating the Standard Error"
   ]
  },
  {
   "cell_type": "markdown",
   "metadata": {},
   "source": [
    "$$ \\widehat{SE} = \\sqrt{ \\frac{\\widehat{ \\sigma^2_{y_{0i}} }}{ N-m } + \\frac{ \\widehat{ \\sigma^2_{y_{1i}} } }{ m } } $$"
   ]
  },
  {
   "cell_type": "markdown",
   "metadata": {},
   "source": [
    "### Hypothesis Testing"
   ]
  },
  {
   "cell_type": "code",
   "execution_count": null,
   "metadata": {
    "collapsed": true
   },
   "outputs": [],
   "source": []
  }
 ],
 "metadata": {
  "kernelspec": {
   "display_name": "Python 3",
   "language": "python",
   "name": "python3"
  },
  "language_info": {
   "codemirror_mode": {
    "name": "ipython",
    "version": 3
   },
   "file_extension": ".py",
   "mimetype": "text/x-python",
   "name": "python",
   "nbconvert_exporter": "python",
   "pygments_lexer": "ipython3",
   "version": "3.5.1"
  }
 },
 "nbformat": 4,
 "nbformat_minor": 0
}
