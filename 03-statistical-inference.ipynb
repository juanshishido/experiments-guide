{
 "cells": [
  {
   "cell_type": "markdown",
   "metadata": {},
   "source": [
    "## Statistical Inference"
   ]
  },
  {
   "cell_type": "markdown",
   "metadata": {},
   "source": [
    "### Sampling Distributions"
   ]
  },
  {
   "cell_type": "markdown",
   "metadata": {},
   "source": [
    "With randomization, we typically only ever see one realization of all the possible set of assignments. From this, we get a single estimate of the average treatment effect. However, had the assignments been different, the estimate would have been different, too. If we were to repeatedly conduct the same experiment, the collection of average treatment effects would form a sampling distribution. The *sampling distribution* refers to the collection of estimates associated with every possible random assignment (Gerber and Green, 2012).\n",
    "\n",
    "The mean of this sampling distribution&mdash;that is, the average estimated ATE across all possible random assignments&mdash;is equal to the true ATE. A single experiment will yield estimates above or below this value, but the expected value of this estimation procedure is the true ATE (Gerber and Green, 2012). While experiments provide unbiased estimates of the ATE, they are not necessarily precise. The sampling variability tells us about the uncertainty associated with our estimate."
   ]
  }
 ],
 "metadata": {
  "kernelspec": {
   "display_name": "Python 3",
   "language": "python",
   "name": "python3"
  },
  "language_info": {
   "codemirror_mode": {
    "name": "ipython",
    "version": 3
   },
   "file_extension": ".py",
   "mimetype": "text/x-python",
   "name": "python",
   "nbconvert_exporter": "python",
   "pygments_lexer": "ipython3",
   "version": "3.5.1"
  }
 },
 "nbformat": 4,
 "nbformat_minor": 0
}
