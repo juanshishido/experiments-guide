{
 "cells": [
  {
   "cell_type": "markdown",
   "metadata": {},
   "source": [
    "## Overview"
   ]
  },
  {
   "cell_type": "markdown",
   "metadata": {},
   "source": [
    "Experiments provide a way to assess hypotheses. They allow specific factors to be altered, thus potentially providing insights into causal relationships between those factors and particular outcomes."
   ]
  },
  {
   "cell_type": "markdown",
   "metadata": {},
   "source": [
    "### Causality"
   ]
  },
  {
   "cell_type": "markdown",
   "metadata": {},
   "source": [
    "In many cases, albeit for different reasons, it may be important to make inferences about the effects of particular interventions. For example, we may be interested in understanding the efficacy of medical treatments, the effects of education programs on student outcomes, or the impacts of web products or features on particular business metrics. There are several ways in which we could make inferences.\n",
    "\n",
    "One approach is to rely on intuition or anecdotes. However, this is problematic because examples supporting particular views might be readily available or, worse yet, because they might be open to interpretation, may be made to favor a particular argument.\n",
    "\n",
    "Another approach is to gather available data on factors that are believed to influence particular outcomes and to analyze their relationships. However, these relationships may not&mdash;and, often times, cannot&mdash;imply anything about causality. This could be due, for example, to *unobserved* factors that are correlated with a particular outcome but are not measured or are measured incorrectly.\n",
    "\n",
    "A common example in labor economics deals with \"returns to education,\" which tries to measure the impact that additional schooling has on wages. Common unobserved factors in this context are ability and motivation. It's not controversial to think that the reasons why particular individuals choose (or have the opportunity) to get additional schooling could relate to or affect future wages. The problem with unobserved factors is that they may not be completely enumerable or even available.\n",
    "\n",
    "The approach that gives us the best ability to assess causal claims and, thus, to be able to make better inferences, is experimentation."
   ]
  },
  {
   "cell_type": "markdown",
   "metadata": {
    "collapsed": true
   },
   "source": [
    "### Experiments"
   ]
  },
  {
   "cell_type": "markdown",
   "metadata": {},
   "source": [
    ">An experiment is characterized by the treatments and experimental units to be used, the way treatments are assigned to units, and the responses that are measured (Oehlert, 2010).\n",
    "\n",
    "A *treatment* is a condition (or conditions) we are interested in assessing. The *experimental units* are the entities to which the treatments are applied. The *responses* are the observed outcomes on the experimental units after applying the treatments.\n",
    "\n",
    "There are several ways that treatments can be assigned to experimental units.\n",
    "\n",
    "* need (e.g., with medical treatments)\n",
    "* first-come, first-served\n",
    "* by name or ID number\n",
    "* randomly"
   ]
  },
  {
   "cell_type": "code",
   "execution_count": null,
   "metadata": {
    "collapsed": true
   },
   "outputs": [],
   "source": []
  }
 ],
 "metadata": {
  "kernelspec": {
   "display_name": "Python 3",
   "language": "python",
   "name": "python3"
  },
  "language_info": {
   "codemirror_mode": {
    "name": "ipython",
    "version": 3
   },
   "file_extension": ".py",
   "mimetype": "text/x-python",
   "name": "python",
   "nbconvert_exporter": "python",
   "pygments_lexer": "ipython3",
   "version": "3.5.1"
  }
 },
 "nbformat": 4,
 "nbformat_minor": 0
}
