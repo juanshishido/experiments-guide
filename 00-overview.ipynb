{
 "cells": [
  {
   "cell_type": "markdown",
   "metadata": {},
   "source": [
    "## Overview"
   ]
  },
  {
   "cell_type": "markdown",
   "metadata": {},
   "source": [
    "Experiments provide a way to assess hypotheses. They are a set of methods for collecting data that enable us to make valid conclusions. They allow specific factors to be altered, thus potentially providing insights into causal relationships between those factors and particular outcomes.\n",
    "\n",
    ">To call in the statistician after the experiment is done may be no more than asking him to perform a post-mortem examination: he may be able to say what the experiment died of (Fisher, 1938).\n",
    "\n",
    "The statistical analyses that are appropriate for a particular set of data or that are needed to answer a specific question, affect the design decisions of experiments."
   ]
  },
  {
   "cell_type": "markdown",
   "metadata": {},
   "source": [
    "### Causality"
   ]
  },
  {
   "cell_type": "markdown",
   "metadata": {},
   "source": [
    "In many cases, albeit for different reasons, it may be important to make inferences about the effects of particular interventions. For example, we may be interested in understanding the efficacy of medical treatments, the effects of education programs on student outcomes, or the impacts of web products or features on particular business metrics. There are several ways in which we could make inferences.\n",
    "\n",
    "One approach is to rely on intuition or anecdotes. However, this is problematic because examples supporting particular views might be readily available or, worse yet, because they might be open to interpretation, may be made to favor a particular argument.\n",
    "\n",
    "Another approach is to gather available data on factors that are believed to influence particular outcomes and to analyze their relationships. However, these relationships may not&mdash;and, often times, cannot&mdash;imply anything about causality. This could be due, for example, to *unobserved* factors that are correlated with a particular outcome but are not measured or are measured incorrectly.\n",
    "\n",
    "A common example in labor economics deals with \"returns to education,\" which tries to measure the impact that additional schooling has on wages. Common unobserved factors in this context are ability and motivation. It's not controversial to think that the reasons why particular individuals choose (or have the opportunity) to get additional schooling could relate to or affect future wages. The problem with unobserved factors is that they may not be completely enumerable or even available.\n",
    "\n",
    "The approach that gives us the best ability to assess causal claims and, thus, to be able to make better inferences, is experimentation."
   ]
  },
  {
   "cell_type": "markdown",
   "metadata": {
    "collapsed": true
   },
   "source": [
    "### Experiments"
   ]
  },
  {
   "cell_type": "markdown",
   "metadata": {},
   "source": [
    "Experiments allow us to, among other things, make direct comparisons between treatments of interest.\n",
    "\n",
    ">An experiment is characterized by the treatments and experimental units to be used, the way treatments are assigned to units, and the responses that are measured (Oehlert, 2010).\n",
    "\n",
    "A *treatment* is a condition (or conditions) we are interested in assessing. The *experimental units* are the entities to which the treatments are applied. The *responses* are the observed outcomes on the experimental units after applying the treatments."
   ]
  },
  {
   "cell_type": "markdown",
   "metadata": {
    "collapsed": true
   },
   "source": [
    "#### Treatments\n",
    "\n",
    "There are several ways that treatments can be assigned to experimental units.\n",
    "\n",
    "* need (e.g., with medical treatments)\n",
    "* first-come, first-served\n",
    "* by name or ID number\n",
    "* randomly"
   ]
  },
  {
   "cell_type": "markdown",
   "metadata": {},
   "source": [
    "#### Units\n",
    "\n",
    "The experimental units are the objects that are assigned a treatment. These can, for example, be individuals or groups of individuals. The experimental units should be representative of the population of interest that is being studied. That is, they should \"resemble the actors who ordinarily encounter [the] interventions\" (Gerber and Green, 2012).\n",
    "\n",
    "The experimental units aren't always the entities on which the outcomes of interest are measured, though. Because of this, we introduce the term *measurement unit*. Consider an experiment where a teaching method is applied to *classrooms*. The classrooms, in this case, because they are the objects to which treatments are assigned, are the experimental units. The outcomes of interest (e.g., test scores), on the other hand, are measured for individual students. They are the measurement units."
   ]
  },
  {
   "cell_type": "markdown",
   "metadata": {},
   "source": [
    "#### Responses\n",
    "\n",
    "The response is the observed outcome that is used to assess the effect of a treatment (or treatments). There are two concepts here&mdash;the idea of *which* outcomes to measure and the idea of *how to represent* the data associated with those outcomes. These choices will determine both the types of analyses that are possible and the efficacy of those analyses.\n",
    "\n",
    "Responses can be measured&mdash;that is, represented&mdash;in several ways.\n",
    "\n",
    "1. Nominal\n",
    "2. Ordinal\n",
    "3. Interval\n",
    "4. Ratio\n",
    "\n",
    "Measurement choices can determine the methods that are appropriate for a given experiment. In addition, they dictate the types of transformations that can be made on the outcomes data.\n",
    "\n",
    "A response's quality can be judged in two ways. The reliability of a response is the degree to which similar measurements would result if the experiment were repeated under the same exact conditions. Validity, on the other hand, refers to the degree to which the response is relevant for the purposes of the particular study.\n",
    "\n",
    "Responses should \"resemble the actual outcomes of theoretical or practical interest\" (Gerber and Green, 2012)."
   ]
  },
  {
   "cell_type": "markdown",
   "metadata": {},
   "source": [
    "The experimental design involves making decisions about all of these, including how to assign treatments to units. Notice that while analysis methods are not explicitly mentioned, analyses *should be* considered when designing and planning an experiment. In general, though not always, the experimental design and the statistical model assumptions determine the proper analysis. Good designs avoid systematic error, are precise, allow for the estimation of error, and have broad validity (Oehlert, 2010)."
   ]
  },
  {
   "cell_type": "code",
   "execution_count": null,
   "metadata": {
    "collapsed": true
   },
   "outputs": [],
   "source": []
  }
 ],
 "metadata": {
  "kernelspec": {
   "display_name": "Python 3",
   "language": "python",
   "name": "python3"
  },
  "language_info": {
   "codemirror_mode": {
    "name": "ipython",
    "version": 3
   },
   "file_extension": ".py",
   "mimetype": "text/x-python",
   "name": "python",
   "nbconvert_exporter": "python",
   "pygments_lexer": "ipython3",
   "version": "3.5.1"
  }
 },
 "nbformat": 4,
 "nbformat_minor": 0
}
