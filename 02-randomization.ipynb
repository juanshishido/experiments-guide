{
 "cells": [
  {
   "cell_type": "markdown",
   "metadata": {},
   "source": [
    "## Randomization"
   ]
  },
  {
   "cell_type": "markdown",
   "metadata": {},
   "source": [
    "In the previous chapter, we saw how randomization eliminates selection bias. Let's explain what we mean by randomization, describe several ways we might want to randomly assign treatments, and discuss the components *other than* the assignment that can be randomized.\n",
    "\n",
    "Randomization refers to using \"a known, well-understood probabilistic scheme\" to assign treatments to units (Oehlert, 2010). Randomization \"ensures that assignment to the treatment group is statistically independent of all observed or unobserved variables\" (Gerber and Green, 2012)."
   ]
  },
  {
   "cell_type": "markdown",
   "metadata": {},
   "source": [
    "### Simple Random Assignment"
   ]
  },
  {
   "cell_type": "markdown",
   "metadata": {},
   "source": [
    "With simple random assignment, every unit has the same probability of being assigned to a particular treatment group. The probability can be anything greater than zero and less than one. This will *approximately* determine the number of units in each group. For example, assuming a single treatment group and a single control group, if the probability is 0.75, about 75% will be assigned to the treatment group.\n",
    "\n",
    "Let's imagine we have 10 units to which we assign a treatment with 0.5 probability. Will our groups be balanced? That is, will we have 5 units in the treatment group and 5 units in the control group? Let's find out."
   ]
  },
  {
   "cell_type": "code",
   "execution_count": 1,
   "metadata": {
    "collapsed": false
   },
   "outputs": [
    {
     "data": {
      "text/plain": [
       "6"
      ]
     },
     "execution_count": 1,
     "metadata": {},
     "output_type": "execute_result"
    }
   ],
   "source": [
    "import numpy as np\n",
    "\n",
    "n, p = 10, 0.5\n",
    "np.random.binomial(n, p)"
   ]
  },
  {
   "cell_type": "markdown",
   "metadata": {},
   "source": [
    "This counts the number of successes&mdash;think of \"success\" as being assigned to the treatment group&mdash;in 10 *independent* trials, where success occurs 50% of the time.\n",
    "\n",
    "Each time you run the cell above, you'll get a different result&mdash;it's not always 5! This is a drawback of simple random assignment.\n",
    "\n",
    ">[Y]ou could flip a coin to assign each of 10 [units] to the treatment condition, but there is only a 24.6% chance of ending up with exactly 5 [units] in treatment and 5 in control (Gerber and Green, 2012)\n",
    "\n",
    "So that others may reproduce our assignments, we can use a random seed. This is highly recommended, though, in practice, we won't use `np.random.binomial()`. (Note: I'll always use `42` as the seed.)"
   ]
  },
  {
   "cell_type": "code",
   "execution_count": 2,
   "metadata": {
    "collapsed": false
   },
   "outputs": [
    {
     "data": {
      "text/plain": [
       "4"
      ]
     },
     "execution_count": 2,
     "metadata": {},
     "output_type": "execute_result"
    }
   ],
   "source": [
    "np.random.seed(42)\n",
    "np.random.binomial(n, p)"
   ]
  },
  {
   "cell_type": "markdown",
   "metadata": {},
   "source": [
    "### Complete Random Assignment"
   ]
  },
  {
   "cell_type": "markdown",
   "metadata": {},
   "source": [
    "If, instead, we'd like to assign exactly $m$ of $N$ units to the treatment group, we can use complete random assignment. Here, as before, each unit has an identical probability of being assigned to the treatment group. Gerber and Green describe three ways to implement complete random assignment:\n",
    "\n",
    "* randomly select units until there are $m$ of them in the treatment group\n",
    "* enumerate all of the possible ways to select $m$ of $N$ units and randomly select one of those allocations\n",
    "* randomly order the $N$ units and select the first $m$\n",
    "\n",
    "Let's show examples for the second and third approaches."
   ]
  },
  {
   "cell_type": "markdown",
   "metadata": {},
   "source": [
    "#### Enumerate"
   ]
  },
  {
   "cell_type": "markdown",
   "metadata": {},
   "source": [
    "There are\n",
    "\n",
    "$$\\frac{n!}{(n - r)!} = \\frac{10!}{5!} = 30,240$$\n",
    "\n",
    "possible ways to select 5 of 10 units.\n",
    "\n",
    "We can enumerate these permutations using the `itertools` module."
   ]
  },
  {
   "cell_type": "code",
   "execution_count": 3,
   "metadata": {
    "collapsed": true
   },
   "outputs": [],
   "source": [
    "from math import factorial\n",
    "\n",
    "possible_permutations = factorial(10) / factorial(10 - 5)"
   ]
  },
  {
   "cell_type": "code",
   "execution_count": 4,
   "metadata": {
    "collapsed": false
   },
   "outputs": [
    {
     "name": "stdout",
     "output_type": "stream",
     "text": [
      "[6, 9, 2, 8, 0]\n"
     ]
    }
   ],
   "source": [
    "import random\n",
    "from itertools import permutations\n",
    "\n",
    "# enumerate the possible ways to select m of N units\n",
    "enumerated = list(permutations(range(10), 5))\n",
    "\n",
    "# randomly select one of those allocations\n",
    "random.seed(42)\n",
    "select = random.randint(0, possible_permutations-1)\n",
    "treatment = enumerated[select]\n",
    "print(list(treatment))"
   ]
  },
  {
   "cell_type": "markdown",
   "metadata": {},
   "source": [
    "Here, using the seed of `42`, units 6, 9, 2, 8, and 0 get assigned to the treatment group."
   ]
  },
  {
   "cell_type": "markdown",
   "metadata": {},
   "source": [
    "#### Randomly Order"
   ]
  },
  {
   "cell_type": "code",
   "execution_count": 5,
   "metadata": {
    "collapsed": false
   },
   "outputs": [
    {
     "data": {
      "text/plain": [
       "[7, 3, 2, 8, 5]"
      ]
     },
     "execution_count": 5,
     "metadata": {},
     "output_type": "execute_result"
    }
   ],
   "source": [
    "units = list(range(10))\n",
    "random.seed(42)\n",
    "random.shuffle(units)\n",
    "units[:5]"
   ]
  },
  {
   "cell_type": "markdown",
   "metadata": {},
   "source": [
    "Here, using the same seed, units 7, 3, 2, 8, and 5 get assigned to the treatment group."
   ]
  },
  {
   "cell_type": "markdown",
   "metadata": {},
   "source": [
    "With either simple or complete random assignment, units are assigned to treatment with equal probability. Thus, the treatment and control groups are random subsets of all units in the sample. This means that treatment status is statistically independent of potential outcomes (Gerber and Green, 2012). In addition, any features that might be associated with the outcome of interest are approximately equally distributed between the groups. In other words, the treatment assignments do not affect the potential outcomes."
   ]
  },
  {
   "cell_type": "markdown",
   "metadata": {},
   "source": [
    "### Randomizing Other Things"
   ]
  },
  {
   "cell_type": "markdown",
   "metadata": {},
   "source": [
    "In addition to randomizing treatment assignment, many other components of an experiment can be randomized. This is study-dependent, but we provide some examples below.\n",
    "\n",
    "* if responses are measured using multiple instruments, randomize the instruments to be used to measure individual units\n",
    "* randomize the order in which treatments are applied\n",
    "* randomize the order in which units are measured\n",
    "* if responses are survey-based and the order of the questions do not matter (i.e., one question does not depend on another), randomize the order of questions\n",
    "\n",
    "In effect, we want to design (e.g., by using blocking, which will be described in a subsequent chapter) for any factors that might cause a change in the response and randomize everything else (Oehlert, 2010)."
   ]
  },
  {
   "cell_type": "code",
   "execution_count": null,
   "metadata": {
    "collapsed": true
   },
   "outputs": [],
   "source": []
  }
 ],
 "metadata": {
  "kernelspec": {
   "display_name": "Python 3",
   "language": "python",
   "name": "python3"
  },
  "language_info": {
   "codemirror_mode": {
    "name": "ipython",
    "version": 3
   },
   "file_extension": ".py",
   "mimetype": "text/x-python",
   "name": "python",
   "nbconvert_exporter": "python",
   "pygments_lexer": "ipython3",
   "version": "3.5.1"
  }
 },
 "nbformat": 4,
 "nbformat_minor": 0
}
